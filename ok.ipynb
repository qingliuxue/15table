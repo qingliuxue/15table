{
 "cells": [
  {
   "cell_type": "markdown",
   "metadata": {},
   "source": [
    "# 开发情况记录\n",
    "- 2018-10-30 （1）基本文件读入内存 OK （2）对标人行数据筛查功能 雏形验证 \n",
    "- 2018-10-31 （1）考虑基本的程序功能组合并采用合理方式表示 考虑传入变长参数\n",
    "- 2018-11-01 （2）为程序的灵活性，考虑query问题"
   ]
  },
  {
   "cell_type": "code",
   "execution_count": 26,
   "metadata": {},
   "outputs": [
    {
     "name": "stdout",
     "output_type": "stream",
     "text": [
      "删除原表\n",
      "OK\n"
     ]
    },
    {
     "data": {
      "text/plain": [
       "(99921, 21)"
      ]
     },
     "execution_count": 26,
     "metadata": {},
     "output_type": "execute_result"
    }
   ],
   "source": [
    "#------------引入库包----------------\n",
    "#import os\n",
    "import gc #释放内存用\n",
    "import pandas as pd\n",
    "from pandasql import sqldf\n",
    "\n",
    "\n",
    "def pysqldf(query):\n",
    "   \n",
    "    #使用该函数后可以不再添加locals()参数\n",
    "    \n",
    "    return sqldf(query, globals())\n",
    "\n",
    "#------------赋值常量----------------\n",
    "CONST_ROWS = 1000 # 读入csv文件时，每次读入CONST_ROWS行处理，避免内存溢出\n",
    "\n",
    "\n",
    "#-------------先释放前期内存-----------\n",
    "if 'reader' in locals().keys():\n",
    "    del reader\n",
    "    gc.collect()\n",
    "    print(\"删除原表\")\n",
    "else:\n",
    "    print(\"建立表\")\n",
    "\n",
    "#-------------建立文件对象并读文件-----------\n",
    "with open('G:/aml/绵阳/提数原始数据/new4.csv','r',encoding='gb18030') as f_read:\n",
    "#f_read = open('G:/aml/绵阳/提数原始数据/new4.csv','r',encoding='gb18030')\n",
    "    reader = pd.read_csv(f_read,#此处无法使用f_read.read(size)函数，原因是在pd.read_csv函数中的参数限制了该地方的使用\n",
    "                         sep = '|',#分割符是:|\n",
    "                         \n",
    "                         #chunksize = CONST_ROWS,\n",
    "                         #使用本参数后则pd.read_csv返回迭代类型TextFileReader给reader，每CONST_ROWS条迭代一次，数据占用较大内存时使用\n",
    "                         #那么在接下来的代码中需要将reader迭代才能完整表达原csv文件内容\n",
    "                         iterator=True, #使用迭代，不能与此chunksize同时使用？\n",
    "                         \n",
    "                         #———————————以下赋列名（按照人行标准文件接口定义列名）——————————\n",
    "                         header = None,#与下面names配套使用\n",
    "                         names = ['Head_no',\n",
    "                                'Bank_code1',\n",
    "                                'Cst_no',\n",
    "                                'Open_time',\n",
    "                                'Close_time',\n",
    "                                'Acc_name',\n",
    "                                'Cst_sex',\n",
    "                                'Nation',\n",
    "                                'Id_type',\n",
    "                                'Id_no',\n",
    "                                'Id_deadline',\n",
    "                                'Occupation',\n",
    "                                'Income',\n",
    "                                'Contact1',\n",
    "                                'Contact2',\n",
    "                                'Contact3',\n",
    "                                'Address1',\n",
    "                                'Address2',\n",
    "                                'Address3',\n",
    "                                'Company',\n",
    "                                'Sys_name']\n",
    "                        )\n",
    "\n",
    "    #————————————————以下需要对reader迭代处理——————————————————\n",
    "    chunks = [] #初始化块\n",
    "#    for r in reader:\n",
    "#        chunk = r.get_chunk(CONST_ROWS)#get_chunk()必须输入参数表示读多少行？\n",
    "#        chunks.append(chunk)  \n",
    "    \n",
    "#print(\"Iteration is stopped.\")\n",
    "#df = pd.concat(chunks, ignore_index=True)\n",
    "\n",
    "    loop = True\n",
    "    while loop:\n",
    "        try:\n",
    "            chunk = reader.get_chunk(CONST_ROWS)\n",
    "            #chunk2 = chunk[(chunk['Id_deadline']< 20180930)]#筛查出身份证件有效期在20180930之前的客户记录\n",
    "            #chunk2 = chunk.query('Id_deadline < 20180930') #验证query函数的使用，1、此处为身份证件到期\n",
    "            \n",
    "            #chunk2 = chunk.query('Id_no.length() == 15') # 2、一代身份证,未通过，使用query似乎不行\n",
    "            chunk2 = chunk[chunk['Id_no'].str.len() == 15]\n",
    "        \n",
    "            #考虑引入pandasql库后采用sql语言\n",
    "            #chunk2 = pysqldf('select * from chunk where length(Id_no)=15;') \n",
    "            \n",
    "            chunks.append(chunk2)\n",
    "            #del chunk\n",
    "            del chunk2\n",
    "        except StopIteration:\n",
    "            loop = False\n",
    "            print(\"OK\")\n",
    "    df = pd.concat(chunks, ignore_index=True)#ignore_index 忽略需要连接的frame本身的index。当原本的index没有特别意义的时候可以使用\n",
    "df.shape\n",
    "\n",
    "\n"
   ]
  },
  {
   "cell_type": "markdown",
   "metadata": {},
   "source": [
    "# 筛查逻辑\n",
    "## 一、主体结构抽象\n",
    "### 1.输入\n",
    "- \n",
    "### 2.输出\n",
    "### 3.实现\n",
    "## 二、具体筛查模块"
   ]
  },
  {
   "cell_type": "code",
   "execution_count": 6,
   "metadata": {},
   "outputs": [
    {
     "name": "stdout",
     "output_type": "stream",
     "text": [
      "Collecting pandasql\n",
      "  Downloading https://files.pythonhosted.org/packages/6b/c4/ee4096ffa2eeeca0c749b26f0371bd26aa5c8b611c43de99a4f86d3de0a7/pandasql-0.7.3.tar.gz\n",
      "Requirement already satisfied: numpy in f:\\coding\\anaconda\\anaconda3\\lib\\site-packages (from pandasql) (1.15.2)\n",
      "Requirement already satisfied: pandas in f:\\coding\\anaconda\\anaconda3\\lib\\site-packages (from pandasql) (0.20.3)\n",
      "Requirement already satisfied: sqlalchemy in f:\\coding\\anaconda\\anaconda3\\lib\\site-packages (from pandasql) (1.1.13)\n",
      "Requirement already satisfied: python-dateutil>=2 in f:\\coding\\anaconda\\anaconda3\\lib\\site-packages (from pandas->pandasql) (2.6.1)\n",
      "Requirement already satisfied: pytz>=2011k in f:\\coding\\anaconda\\anaconda3\\lib\\site-packages (from pandas->pandasql) (2017.2)\n",
      "Requirement already satisfied: six>=1.5 in f:\\coding\\anaconda\\anaconda3\\lib\\site-packages (from python-dateutil>=2->pandas->pandasql) (1.10.0)\n",
      "Building wheels for collected packages: pandasql\n",
      "  Running setup.py bdist_wheel for pandasql: started\n",
      "  Running setup.py bdist_wheel for pandasql: finished with status 'done'\n",
      "  Stored in directory: C:\\Users\\qlx\\AppData\\Local\\pip\\Cache\\wheels\\53\\6c\\18\\b87a2e5fa8a82e9c026311de56210b8d1c01846e18a9607fc9\n",
      "Successfully built pandasql\n",
      "Installing collected packages: pandasql\n",
      "Successfully installed pandasql-0.7.3\n"
     ]
    }
   ],
   "source": [
    "! pip install pandasql"
   ]
  },
  {
   "cell_type": "code",
   "execution_count": null,
   "metadata": {},
   "outputs": [],
   "source": []
  },
  {
   "cell_type": "code",
   "execution_count": 1,
   "metadata": {},
   "outputs": [
    {
     "name": "stdout",
     "output_type": "stream",
     "text": [
      "测试提交git\n"
     ]
    }
   ],
   "source": [
    "#2018-11-04 23：54测试git\n",
    "print('测试提交git')"
   ]
  },
  {
   "cell_type": "code",
   "execution_count": null,
   "metadata": {
    "collapsed": true
   },
   "outputs": [],
   "source": []
  }
 ],
 "metadata": {
  "kernelspec": {
   "display_name": "Python 3",
   "language": "python",
   "name": "python3"
  },
  "language_info": {
   "codemirror_mode": {
    "name": "ipython",
    "version": 3
   },
   "file_extension": ".py",
   "mimetype": "text/x-python",
   "name": "python",
   "nbconvert_exporter": "python",
   "pygments_lexer": "ipython3",
   "version": "3.6.6"
  }
 },
 "nbformat": 4,
 "nbformat_minor": 2
}
